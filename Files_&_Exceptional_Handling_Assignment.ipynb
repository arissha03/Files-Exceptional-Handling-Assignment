{
  "nbformat": 4,
  "nbformat_minor": 0,
  "metadata": {
    "colab": {
      "provenance": []
    },
    "kernelspec": {
      "name": "python3",
      "display_name": "Python 3"
    },
    "language_info": {
      "name": "python"
    }
  },
  "cells": [
    {
      "cell_type": "markdown",
      "source": [
        "1.Discuss the scenarios where multithreading is preferable to multiprocessing and scenarios where multiprocessing is a better choice.\n",
        "\n",
        "\n",
        "---\n",
        "Multithreading:\n",
        "\n",
        "Suitable for I/O-bound tasks, like reading/writing to files, network operations, or database queries.\n",
        "Ideal when threads need to share data and communicate frequently.\n",
        "Uses less memory as threads share the same memory space.\n",
        "Example: Real-time UI applications or web scraping.\n",
        "\n",
        "Multiprocessing:\n",
        "Ideal for CPU-bound tasks, such as numerical computations, data processing, or machine learning model training.\n",
        "Each process has its memory space, avoiding the Global Interpreter Lock (GIL) in Python.\n",
        "Suitable for tasks requiring isolation or heavy computational work.\n",
        "Example: Video encoding or scientific simulations.\n"
      ],
      "metadata": {
        "id": "qfZNK6j9WX-L"
      }
    },
    {
      "cell_type": "markdown",
      "source": [
        "2.Describe what a process pool is and how it helps in managing multiple processes efficiently.\n",
        "\n",
        "\n",
        "---\n",
        "Solution:\n",
        "\n",
        "A process pool is a mechanism to manage a fixed number of worker processes to execute tasks concurrently.\n",
        "It allows reusing processes, reducing the overhead of creating and destroying processes repeatedly.\n",
        "The pool handles task allocation, ensuring efficient resource utilization and minimizing latency.\n",
        "Example: Using multiprocessing.Pool in Python for parallel computation."
      ],
      "metadata": {
        "id": "W4k_etQOWkxE"
      }
    },
    {
      "cell_type": "markdown",
      "source": [
        "3.Explain what multiprocessing is and why it is used in Python programs.\n",
        "\n",
        "\n",
        "---\n",
        "Solution:\n",
        "\n",
        "Multiprocessing enables Python programs to execute code across multiple CPU cores, bypassing the GIL limitation.\n",
        "It is used for:\n",
        "Parallelizing CPU-intensive tasks to improve performance.\n",
        "Isolating memory for each process, enhancing data security and reducing conflicts.\n",
        "Examples:\n",
        "Performing numerical simulations.\n",
        "Parallel processing of large datasets.\n"
      ],
      "metadata": {
        "id": "YHpClyhMWpBa"
      }
    },
    {
      "cell_type": "markdown",
      "source": [
        "4.Write a Python program using multithreading where one thread adds numbers to a list, and another thread removes numbers from the list. Implement a mechanism to avoid race conditions using threading.Lock."
      ],
      "metadata": {
        "id": "X4HpuvT6WzTa"
      }
    },
    {
      "cell_type": "code",
      "source": [
        "import threading\n",
        "import time\n",
        "\n",
        "# Shared resource\n",
        "numbers = []\n",
        "\n",
        "# Lock for synchronization\n",
        "lock = threading.Lock()\n",
        "\n",
        "# Function to add numbers\n",
        "def add_numbers():\n",
        "    for i in range(1, 11):\n",
        "        with lock:\n",
        "            numbers.append(i)\n",
        "            print(f\"Added: {i}\")\n",
        "        time.sleep(0.5)\n",
        "\n",
        "# Function to remove numbers\n",
        "def remove_numbers():\n",
        "    for _ in range(1, 11):\n",
        "        with lock:\n",
        "            if numbers:\n",
        "                removed = numbers.pop(0)\n",
        "                print(f\"Removed: {removed}\")\n",
        "        time.sleep(1)\n",
        "\n",
        "# Create threads\n",
        "thread1 = threading.Thread(target=add_numbers)\n",
        "thread2 = threading.Thread(target=remove_numbers)\n",
        "\n",
        "# Start threads\n",
        "thread1.start()\n",
        "thread2.start()\n",
        "\n",
        "# Wait for threads to complete\n",
        "thread1.join()\n",
        "thread2.join()\n",
        "\n",
        "print(\"Final List:\", numbers)\n"
      ],
      "metadata": {
        "colab": {
          "base_uri": "https://localhost:8080/"
        },
        "id": "PMRrS62eW2My",
        "outputId": "baf9ad87-022e-423f-bc29-a4e0a704ad55"
      },
      "execution_count": 1,
      "outputs": [
        {
          "output_type": "stream",
          "name": "stdout",
          "text": [
            "Added: 1\n",
            "Removed: 1\n",
            "Added: 2\n",
            "Added: 3\n",
            "Removed: 2\n",
            "Added: 4\n",
            "Added: 5\n",
            "Removed: 3\n",
            "Added: 6\n",
            "Added: 7\n",
            "Removed: 4\n",
            "Added: 8\n",
            "Added: 9\n",
            "Removed: 5\n",
            "Added: 10\n",
            "Removed: 6\n",
            "Removed: 7\n",
            "Removed: 8\n",
            "Removed: 9\n",
            "Removed: 10\n",
            "Final List: []\n"
          ]
        }
      ]
    },
    {
      "cell_type": "markdown",
      "source": [
        "5.Describe the methods and tools available in Python for safely sharing data between threads and processes.\n",
        "\n",
        "\n",
        "---\n",
        "Solution:\n",
        "\n",
        "For Threads:\n",
        "\n",
        "Use threading.Lock, threading.RLock, or threading.Semaphore to synchronize access to shared data.\n",
        "Thread-safe queues (queue.Queue) ensure safe sharing of data.\n",
        "For Processes:\n",
        "\n",
        "Use shared memory tools like multiprocessing.Value and multiprocessing.Array.\n",
        "Use multiprocessing.Queue or multiprocessing.Manager for sharing data between processes."
      ],
      "metadata": {
        "id": "rwBG4QBJXGFB"
      }
    },
    {
      "cell_type": "markdown",
      "source": [
        "6.Discuss why it’s crucial to handle exceptions in concurrent programs and the techniques available for doing so.\n",
        "\n",
        "---\n",
        "Solution:\n",
        "\n",
        "**Importance**:\n",
        "Exceptions in one thread/process can affect the entire program or cause deadlocks.\n",
        "Proper handling ensures robustness and fault tolerance.\n",
        "\n",
        "**Techniques**:\n",
        "Use try-except blocks inside threads/processes.\n",
        "Use concurrent.futures for better exception handling in thread and process pools.\n"
      ],
      "metadata": {
        "id": "h7PqykznXPTR"
      }
    },
    {
      "cell_type": "markdown",
      "source": [
        "7.Create a program that uses a thread pool to calculate the factorial of numbers from 1 to 10 concurrently. Use concurrent.futures.ThreadPoolExecutor to manage the threads."
      ],
      "metadata": {
        "id": "W1bOEWzoXlIy"
      }
    },
    {
      "cell_type": "code",
      "source": [
        "from concurrent.futures import ThreadPoolExecutor\n",
        "import math\n",
        "\n",
        "# Function to calculate factorial\n",
        "def calculate_factorial(n):\n",
        "    result = math.factorial(n)\n",
        "    print(f\"Factorial of {n}: {result}\")\n",
        "    return result\n",
        "\n",
        "# Main execution\n",
        "if __name__ == \"__main__\":\n",
        "    with ThreadPoolExecutor() as executor:\n",
        "        numbers = list(range(1, 11))\n",
        "        results = executor.map(calculate_factorial, numbers)\n"
      ],
      "metadata": {
        "colab": {
          "base_uri": "https://localhost:8080/"
        },
        "id": "on5BfiM2XqyB",
        "outputId": "952fde4c-b5a7-4e5e-8741-f0384acb874e"
      },
      "execution_count": 2,
      "outputs": [
        {
          "output_type": "stream",
          "name": "stdout",
          "text": [
            "Factorial of 1: 1\n",
            "Factorial of 2: 2\n",
            "Factorial of 3: 6\n",
            "Factorial of 4: 24\n",
            "Factorial of 5: 120\n",
            "Factorial of 6: 720\n",
            "Factorial of 7: 5040Factorial of 8: 40320\n",
            "Factorial of 9: 362880\n",
            "\n",
            "Factorial of 10: 3628800\n"
          ]
        }
      ]
    },
    {
      "cell_type": "markdown",
      "source": [
        "8.Create a Python program that uses multiprocessing.Pool to compute the square of numbers from 1 to 10 in parallel. Measure the time taken to perform this computation using a pool of different sizes (e.g., 2, 4, 8 processes).\n",
        "\n",
        "---\n",
        "\n"
      ],
      "metadata": {
        "id": "fGNvwXbtXxOI"
      }
    },
    {
      "cell_type": "code",
      "source": [
        "from multiprocessing import Pool\n",
        "import time\n",
        "\n",
        "# Function to compute square\n",
        "def compute_square(n):\n",
        "    return n * n\n",
        "\n",
        "# Measure time for different pool sizes\n",
        "if __name__ == \"__main__\":\n",
        "    numbers = list(range(1, 11))\n",
        "\n",
        "    for pool_size in [2, 4, 8]:\n",
        "        start_time = time.time()\n",
        "\n",
        "        with Pool(pool_size) as pool:\n",
        "            results = pool.map(compute_square, numbers)\n",
        "\n",
        "        end_time = time.time()\n",
        "        print(f\"Pool Size: {pool_size}, Results: {results}, Time Taken: {end_time - start_time:.4f} seconds\")\n"
      ],
      "metadata": {
        "colab": {
          "base_uri": "https://localhost:8080/"
        },
        "id": "DKm8HoSdXr9c",
        "outputId": "a6ea7bbf-e169-479a-f2e6-5150524dc0f8"
      },
      "execution_count": 3,
      "outputs": [
        {
          "output_type": "stream",
          "name": "stdout",
          "text": [
            "Pool Size: 2, Results: [1, 4, 9, 16, 25, 36, 49, 64, 81, 100], Time Taken: 0.1339 seconds\n",
            "Pool Size: 4, Results: [1, 4, 9, 16, 25, 36, 49, 64, 81, 100], Time Taken: 0.0768 seconds\n",
            "Pool Size: 8, Results: [1, 4, 9, 16, 25, 36, 49, 64, 81, 100], Time Taken: 0.1106 seconds\n"
          ]
        }
      ]
    },
    {
      "cell_type": "code",
      "source": [],
      "metadata": {
        "id": "acCgRHMDX3X4"
      },
      "execution_count": null,
      "outputs": []
    }
  ]
}